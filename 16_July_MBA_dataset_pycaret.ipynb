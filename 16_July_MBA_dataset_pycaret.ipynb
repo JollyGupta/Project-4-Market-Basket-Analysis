{
 "cells": [
  {
   "cell_type": "code",
   "execution_count": 1,
   "id": "2cfc84f4-09a6-40fe-b8b0-eac9c69c70cd",
   "metadata": {},
   "outputs": [],
   "source": [
    "#https://github.com/siddiquiamir/PyCaret/blob/main/Clustering.ipynb\n",
    "#https://www.youtube.com/watch?v=XYAGwts5qGw"
   ]
  },
  {
   "cell_type": "code",
   "execution_count": null,
   "id": "c45ab275-6139-461f-9711-21d29eed3b0d",
   "metadata": {},
   "outputs": [],
   "source": [
    "'''Market Basket Analysis is a data mining technique used to uncover purchase patterns in customer transactions.\n",
    "If a customer buys bread and butter, they’re also likely to buy jam.'''"
   ]
  },
  {
   "cell_type": "code",
   "execution_count": 5,
   "id": "bff50e0e-674f-45c7-ac10-3d177c6883ea",
   "metadata": {},
   "outputs": [],
   "source": [
    "import pycaret\n",
    "from pycaret.datasets import get_data"
   ]
  },
  {
   "cell_type": "raw",
   "id": "44732c22-f34b-4ff2-9ef1-23bfabdc3281",
   "metadata": {},
   "source": [
    "get_data()"
   ]
  },
  {
   "cell_type": "code",
   "execution_count": 7,
   "id": "daf6b0a6-2664-46f8-8212-651c83e379fc",
   "metadata": {},
   "outputs": [
    {
     "data": {
      "text/html": [
       "<div>\n",
       "<style scoped>\n",
       "    .dataframe tbody tr th:only-of-type {\n",
       "        vertical-align: middle;\n",
       "    }\n",
       "\n",
       "    .dataframe tbody tr th {\n",
       "        vertical-align: top;\n",
       "    }\n",
       "\n",
       "    .dataframe thead th {\n",
       "        text-align: right;\n",
       "    }\n",
       "</style>\n",
       "<table border=\"1\" class=\"dataframe\">\n",
       "  <thead>\n",
       "    <tr style=\"text-align: right;\">\n",
       "      <th></th>\n",
       "      <th>InvoiceNo</th>\n",
       "      <th>StockCode</th>\n",
       "      <th>Description</th>\n",
       "      <th>Quantity</th>\n",
       "      <th>InvoiceDate</th>\n",
       "      <th>UnitPrice</th>\n",
       "      <th>CustomerID</th>\n",
       "      <th>Country</th>\n",
       "    </tr>\n",
       "  </thead>\n",
       "  <tbody>\n",
       "    <tr>\n",
       "      <th>0</th>\n",
       "      <td>536527</td>\n",
       "      <td>22809</td>\n",
       "      <td>SET OF 6 T-LIGHTS SANTA</td>\n",
       "      <td>6</td>\n",
       "      <td>12/1/2010 13:04</td>\n",
       "      <td>2.95</td>\n",
       "      <td>12662</td>\n",
       "      <td>Germany</td>\n",
       "    </tr>\n",
       "    <tr>\n",
       "      <th>1</th>\n",
       "      <td>536527</td>\n",
       "      <td>84347</td>\n",
       "      <td>ROTATING SILVER ANGELS T-LIGHT HLDR</td>\n",
       "      <td>6</td>\n",
       "      <td>12/1/2010 13:04</td>\n",
       "      <td>2.55</td>\n",
       "      <td>12662</td>\n",
       "      <td>Germany</td>\n",
       "    </tr>\n",
       "    <tr>\n",
       "      <th>2</th>\n",
       "      <td>536527</td>\n",
       "      <td>84945</td>\n",
       "      <td>MULTI COLOUR SILVER T-LIGHT HOLDER</td>\n",
       "      <td>12</td>\n",
       "      <td>12/1/2010 13:04</td>\n",
       "      <td>0.85</td>\n",
       "      <td>12662</td>\n",
       "      <td>Germany</td>\n",
       "    </tr>\n",
       "    <tr>\n",
       "      <th>3</th>\n",
       "      <td>536527</td>\n",
       "      <td>22242</td>\n",
       "      <td>5 HOOK HANGER MAGIC TOADSTOOL</td>\n",
       "      <td>12</td>\n",
       "      <td>12/1/2010 13:04</td>\n",
       "      <td>1.65</td>\n",
       "      <td>12662</td>\n",
       "      <td>Germany</td>\n",
       "    </tr>\n",
       "    <tr>\n",
       "      <th>4</th>\n",
       "      <td>536527</td>\n",
       "      <td>22244</td>\n",
       "      <td>3 HOOK HANGER MAGIC GARDEN</td>\n",
       "      <td>12</td>\n",
       "      <td>12/1/2010 13:04</td>\n",
       "      <td>1.95</td>\n",
       "      <td>12662</td>\n",
       "      <td>Germany</td>\n",
       "    </tr>\n",
       "  </tbody>\n",
       "</table>\n",
       "</div>"
      ],
      "text/plain": [
       "  InvoiceNo StockCode                          Description  Quantity  \\\n",
       "0    536527     22809              SET OF 6 T-LIGHTS SANTA         6   \n",
       "1    536527     84347  ROTATING SILVER ANGELS T-LIGHT HLDR         6   \n",
       "2    536527     84945   MULTI COLOUR SILVER T-LIGHT HOLDER        12   \n",
       "3    536527     22242        5 HOOK HANGER MAGIC TOADSTOOL        12   \n",
       "4    536527     22244           3 HOOK HANGER MAGIC GARDEN        12   \n",
       "\n",
       "       InvoiceDate  UnitPrice  CustomerID  Country  \n",
       "0  12/1/2010 13:04       2.95       12662  Germany  \n",
       "1  12/1/2010 13:04       2.55       12662  Germany  \n",
       "2  12/1/2010 13:04       0.85       12662  Germany  \n",
       "3  12/1/2010 13:04       1.65       12662  Germany  \n",
       "4  12/1/2010 13:04       1.95       12662  Germany  "
      ]
     },
     "metadata": {},
     "output_type": "display_data"
    }
   ],
   "source": [
    "dataset = get_data(\"germany\") #  Association Rule Mining\tInvoiceNo\tDescription"
   ]
  },
  {
   "cell_type": "code",
   "execution_count": 8,
   "id": "30af7d13-8076-416d-8016-e7a26102e41f",
   "metadata": {},
   "outputs": [
    {
     "data": {
      "text/plain": [
       "Index(['InvoiceNo', 'StockCode', 'Description', 'Quantity', 'InvoiceDate',\n",
       "       'UnitPrice', 'CustomerID', 'Country'],\n",
       "      dtype='object')"
      ]
     },
     "execution_count": 8,
     "metadata": {},
     "output_type": "execute_result"
    }
   ],
   "source": [
    "dataset.columns"
   ]
  },
  {
   "cell_type": "raw",
   "id": "c88533ad-4f99-4d60-97d9-da067530f24c",
   "metadata": {},
   "source": [
    "# from pycaret.arules import *\n",
    "# not applicaple in latest pycaret library"
   ]
  },
  {
   "cell_type": "code",
   "execution_count": 10,
   "id": "1e01c8fb-8def-49e9-abd5-bcaf355dd42a",
   "metadata": {},
   "outputs": [
    {
     "data": {
      "text/html": [
       "<div>\n",
       "<style scoped>\n",
       "    .dataframe tbody tr th:only-of-type {\n",
       "        vertical-align: middle;\n",
       "    }\n",
       "\n",
       "    .dataframe tbody tr th {\n",
       "        vertical-align: top;\n",
       "    }\n",
       "\n",
       "    .dataframe thead th {\n",
       "        text-align: right;\n",
       "    }\n",
       "</style>\n",
       "<table border=\"1\" class=\"dataframe\">\n",
       "  <thead>\n",
       "    <tr style=\"text-align: right;\">\n",
       "      <th></th>\n",
       "      <th>InvoiceNo</th>\n",
       "      <th>StockCode</th>\n",
       "      <th>Description</th>\n",
       "      <th>Quantity</th>\n",
       "      <th>InvoiceDate</th>\n",
       "      <th>UnitPrice</th>\n",
       "      <th>CustomerID</th>\n",
       "      <th>Country</th>\n",
       "    </tr>\n",
       "  </thead>\n",
       "  <tbody>\n",
       "    <tr>\n",
       "      <th>0</th>\n",
       "      <td>536527</td>\n",
       "      <td>22809</td>\n",
       "      <td>SET OF 6 T-LIGHTS SANTA</td>\n",
       "      <td>6</td>\n",
       "      <td>12/1/2010 13:04</td>\n",
       "      <td>2.95</td>\n",
       "      <td>12662</td>\n",
       "      <td>Germany</td>\n",
       "    </tr>\n",
       "    <tr>\n",
       "      <th>1</th>\n",
       "      <td>536527</td>\n",
       "      <td>84347</td>\n",
       "      <td>ROTATING SILVER ANGELS T-LIGHT HLDR</td>\n",
       "      <td>6</td>\n",
       "      <td>12/1/2010 13:04</td>\n",
       "      <td>2.55</td>\n",
       "      <td>12662</td>\n",
       "      <td>Germany</td>\n",
       "    </tr>\n",
       "  </tbody>\n",
       "</table>\n",
       "</div>"
      ],
      "text/plain": [
       "  InvoiceNo StockCode                          Description  Quantity  \\\n",
       "0    536527     22809              SET OF 6 T-LIGHTS SANTA         6   \n",
       "1    536527     84347  ROTATING SILVER ANGELS T-LIGHT HLDR         6   \n",
       "\n",
       "       InvoiceDate  UnitPrice  CustomerID  Country  \n",
       "0  12/1/2010 13:04       2.95       12662  Germany  \n",
       "1  12/1/2010 13:04       2.55       12662  Germany  "
      ]
     },
     "execution_count": 10,
     "metadata": {},
     "output_type": "execute_result"
    }
   ],
   "source": [
    "dataset.head(2)"
   ]
  },
  {
   "cell_type": "code",
   "execution_count": 11,
   "id": "23ff8fee-8a47-4be0-b44e-236b12284d1a",
   "metadata": {},
   "outputs": [],
   "source": [
    "import pandas as pd\n",
    "from mlxtend.frequent_patterns import apriori, association_rules"
   ]
  },
  {
   "cell_type": "code",
   "execution_count": 14,
   "id": "5bd8a447-2d63-484a-9e4a-bf30d2f4641e",
   "metadata": {},
   "outputs": [],
   "source": [
    "df=dataset"
   ]
  },
  {
   "cell_type": "code",
   "execution_count": 16,
   "id": "81d179fd-3da1-40a3-a0f1-23f646d78012",
   "metadata": {},
   "outputs": [],
   "source": [
    "\n",
    "# Step 1: Basic cleaning\n",
    "df['Description']=df['Description'].str.strip()\n",
    "df.dropna(subset=['InvoiceNo', 'Description'], inplace=True)\n",
    "df['InvoiceNo'] = df['InvoiceNo'].astype(str)\n",
    "df = df[~df['InvoiceNo'].str.contains('C')]  # Remove cancellations\n",
    "\n",
    "# Step 2: Filter only Germany\n",
    "germany_df = df[df['Country'] == 'Germany']\n"
   ]
  },
  {
   "cell_type": "code",
   "execution_count": 18,
   "id": "4b43e56c-a18a-48fb-93a8-dfb568798c34",
   "metadata": {},
   "outputs": [
    {
     "data": {
      "text/html": [
       "<div>\n",
       "<style scoped>\n",
       "    .dataframe tbody tr th:only-of-type {\n",
       "        vertical-align: middle;\n",
       "    }\n",
       "\n",
       "    .dataframe tbody tr th {\n",
       "        vertical-align: top;\n",
       "    }\n",
       "\n",
       "    .dataframe thead th {\n",
       "        text-align: right;\n",
       "    }\n",
       "</style>\n",
       "<table border=\"1\" class=\"dataframe\">\n",
       "  <thead>\n",
       "    <tr style=\"text-align: right;\">\n",
       "      <th></th>\n",
       "      <th>InvoiceNo</th>\n",
       "      <th>StockCode</th>\n",
       "      <th>Description</th>\n",
       "      <th>Quantity</th>\n",
       "      <th>InvoiceDate</th>\n",
       "      <th>UnitPrice</th>\n",
       "      <th>CustomerID</th>\n",
       "      <th>Country</th>\n",
       "    </tr>\n",
       "  </thead>\n",
       "  <tbody>\n",
       "  </tbody>\n",
       "</table>\n",
       "</div>"
      ],
      "text/plain": [
       "Empty DataFrame\n",
       "Columns: [InvoiceNo, StockCode, Description, Quantity, InvoiceDate, UnitPrice, CustomerID, Country]\n",
       "Index: []"
      ]
     },
     "execution_count": 18,
     "metadata": {},
     "output_type": "execute_result"
    }
   ],
   "source": [
    "df[df[\"Quantity\"]<0]"
   ]
  },
  {
   "cell_type": "code",
   "execution_count": 19,
   "id": "5c717049-2a69-4be3-b250-391167f89e09",
   "metadata": {},
   "outputs": [
    {
     "data": {
      "text/html": [
       "<div>\n",
       "<style scoped>\n",
       "    .dataframe tbody tr th:only-of-type {\n",
       "        vertical-align: middle;\n",
       "    }\n",
       "\n",
       "    .dataframe tbody tr th {\n",
       "        vertical-align: top;\n",
       "    }\n",
       "\n",
       "    .dataframe thead th {\n",
       "        text-align: right;\n",
       "    }\n",
       "</style>\n",
       "<table border=\"1\" class=\"dataframe\">\n",
       "  <thead>\n",
       "    <tr style=\"text-align: right;\">\n",
       "      <th></th>\n",
       "      <th>InvoiceNo</th>\n",
       "      <th>StockCode</th>\n",
       "      <th>Description</th>\n",
       "      <th>Quantity</th>\n",
       "      <th>InvoiceDate</th>\n",
       "      <th>UnitPrice</th>\n",
       "      <th>CustomerID</th>\n",
       "      <th>Country</th>\n",
       "    </tr>\n",
       "  </thead>\n",
       "  <tbody>\n",
       "  </tbody>\n",
       "</table>\n",
       "</div>"
      ],
      "text/plain": [
       "Empty DataFrame\n",
       "Columns: [InvoiceNo, StockCode, Description, Quantity, InvoiceDate, UnitPrice, CustomerID, Country]\n",
       "Index: []"
      ]
     },
     "execution_count": 19,
     "metadata": {},
     "output_type": "execute_result"
    }
   ],
   "source": [
    "df[df[\"UnitPrice\"]<0]"
   ]
  },
  {
   "cell_type": "code",
   "execution_count": null,
   "id": "86f3bc68-9fc1-421a-86b7-7a8c1a28b65f",
   "metadata": {},
   "outputs": [],
   "source": [
    "# Create Basket Format (One-hot encoded)"
   ]
  },
  {
   "cell_type": "code",
   "execution_count": 21,
   "id": "38ea476b-98ea-47b4-912d-69be5272ec2e",
   "metadata": {},
   "outputs": [],
   "source": [
    "# Group by Invoice and Description and sum quantities\n",
    "basket = germany_df.groupby(['InvoiceNo', 'Description'])['Quantity'].sum().unstack().fillna(0)\n",
    "\n",
    "# Encode: 1 if Quantity > 0, else 0\n",
    "basket = basket.applymap(lambda x: 1 if x > 0 else 0)\n"
   ]
  },
  {
   "cell_type": "code",
   "execution_count": null,
   "id": "f2551b71-1d37-415e-b99c-4c1f655d55b4",
   "metadata": {},
   "outputs": [],
   "source": [
    "'''CustomerID → not needed\n",
    "Country → already filtered\n",
    "InvoiceDate → not used in MBA\n",
    "UnitPrice → not used for frequent pattern mining\n",
    "stack: Converts item names (Description) into columns\n",
    "'''"
   ]
  },
  {
   "cell_type": "code",
   "execution_count": 25,
   "id": "0dab9efc-9be6-4946-baa3-6c6fdb29beb4",
   "metadata": {},
   "outputs": [],
   "source": [
    "#Apply Apriori\n",
    "frequent_itemsets = apriori(basket, min_support=0.03, use_colnames=True)"
   ]
  },
  {
   "cell_type": "code",
   "execution_count": 34,
   "id": "c0673b59-c54e-4d6f-9cb6-26f2e772578e",
   "metadata": {},
   "outputs": [
    {
     "data": {
      "text/html": [
       "<div>\n",
       "<style scoped>\n",
       "    .dataframe tbody tr th:only-of-type {\n",
       "        vertical-align: middle;\n",
       "    }\n",
       "\n",
       "    .dataframe tbody tr th {\n",
       "        vertical-align: top;\n",
       "    }\n",
       "\n",
       "    .dataframe thead th {\n",
       "        text-align: right;\n",
       "    }\n",
       "</style>\n",
       "<table border=\"1\" class=\"dataframe\">\n",
       "  <thead>\n",
       "    <tr style=\"text-align: right;\">\n",
       "      <th></th>\n",
       "      <th>antecedents</th>\n",
       "      <th>consequents</th>\n",
       "      <th>support</th>\n",
       "      <th>confidence</th>\n",
       "      <th>lift</th>\n",
       "    </tr>\n",
       "  </thead>\n",
       "  <tbody>\n",
       "    <tr>\n",
       "      <th>296</th>\n",
       "      <td>(SPACEBOY CHILDRENS BOWL)</td>\n",
       "      <td>(SPACEBOY CHILDRENS CUP)</td>\n",
       "      <td>0.037199</td>\n",
       "      <td>0.894737</td>\n",
       "      <td>20.444737</td>\n",
       "    </tr>\n",
       "    <tr>\n",
       "      <th>297</th>\n",
       "      <td>(SPACEBOY CHILDRENS CUP)</td>\n",
       "      <td>(SPACEBOY CHILDRENS BOWL)</td>\n",
       "      <td>0.037199</td>\n",
       "      <td>0.850000</td>\n",
       "      <td>20.444737</td>\n",
       "    </tr>\n",
       "    <tr>\n",
       "      <th>615</th>\n",
       "      <td>(SPACEBOY CHILDRENS CUP)</td>\n",
       "      <td>(POSTAGE, SPACEBOY CHILDRENS BOWL)</td>\n",
       "      <td>0.035011</td>\n",
       "      <td>0.800000</td>\n",
       "      <td>20.311111</td>\n",
       "    </tr>\n",
       "    <tr>\n",
       "      <th>610</th>\n",
       "      <td>(POSTAGE, SPACEBOY CHILDRENS BOWL)</td>\n",
       "      <td>(SPACEBOY CHILDRENS CUP)</td>\n",
       "      <td>0.035011</td>\n",
       "      <td>0.888889</td>\n",
       "      <td>20.311111</td>\n",
       "    </tr>\n",
       "    <tr>\n",
       "      <th>611</th>\n",
       "      <td>(POSTAGE, SPACEBOY CHILDRENS CUP)</td>\n",
       "      <td>(SPACEBOY CHILDRENS BOWL)</td>\n",
       "      <td>0.035011</td>\n",
       "      <td>0.842105</td>\n",
       "      <td>20.254848</td>\n",
       "    </tr>\n",
       "    <tr>\n",
       "      <th>614</th>\n",
       "      <td>(SPACEBOY CHILDRENS BOWL)</td>\n",
       "      <td>(POSTAGE, SPACEBOY CHILDRENS CUP)</td>\n",
       "      <td>0.035011</td>\n",
       "      <td>0.842105</td>\n",
       "      <td>20.254848</td>\n",
       "    </tr>\n",
       "    <tr>\n",
       "      <th>358</th>\n",
       "      <td>(CHILDRENS CUTLERY SPACEBOY)</td>\n",
       "      <td>(POSTAGE, CHILDRENS CUTLERY DOLLY GIRL)</td>\n",
       "      <td>0.037199</td>\n",
       "      <td>0.772727</td>\n",
       "      <td>16.816017</td>\n",
       "    </tr>\n",
       "    <tr>\n",
       "      <th>355</th>\n",
       "      <td>(POSTAGE, CHILDRENS CUTLERY DOLLY GIRL)</td>\n",
       "      <td>(CHILDRENS CUTLERY SPACEBOY)</td>\n",
       "      <td>0.037199</td>\n",
       "      <td>0.809524</td>\n",
       "      <td>16.816017</td>\n",
       "    </tr>\n",
       "    <tr>\n",
       "      <th>41</th>\n",
       "      <td>(CHILDRENS CUTLERY DOLLY GIRL)</td>\n",
       "      <td>(CHILDRENS CUTLERY SPACEBOY)</td>\n",
       "      <td>0.039387</td>\n",
       "      <td>0.782609</td>\n",
       "      <td>16.256917</td>\n",
       "    </tr>\n",
       "    <tr>\n",
       "      <th>40</th>\n",
       "      <td>(CHILDRENS CUTLERY SPACEBOY)</td>\n",
       "      <td>(CHILDRENS CUTLERY DOLLY GIRL)</td>\n",
       "      <td>0.039387</td>\n",
       "      <td>0.818182</td>\n",
       "      <td>16.256917</td>\n",
       "    </tr>\n",
       "    <tr>\n",
       "      <th>359</th>\n",
       "      <td>(CHILDRENS CUTLERY DOLLY GIRL)</td>\n",
       "      <td>(POSTAGE, CHILDRENS CUTLERY SPACEBOY)</td>\n",
       "      <td>0.037199</td>\n",
       "      <td>0.739130</td>\n",
       "      <td>16.084886</td>\n",
       "    </tr>\n",
       "    <tr>\n",
       "      <th>354</th>\n",
       "      <td>(POSTAGE, CHILDRENS CUTLERY SPACEBOY)</td>\n",
       "      <td>(CHILDRENS CUTLERY DOLLY GIRL)</td>\n",
       "      <td>0.037199</td>\n",
       "      <td>0.809524</td>\n",
       "      <td>16.084886</td>\n",
       "    </tr>\n",
       "    <tr>\n",
       "      <th>293</th>\n",
       "      <td>(SET/6 RED SPOTTY PAPER PLATES)</td>\n",
       "      <td>(SET/6 RED SPOTTY PAPER CUPS)</td>\n",
       "      <td>0.045952</td>\n",
       "      <td>0.807692</td>\n",
       "      <td>15.379808</td>\n",
       "    </tr>\n",
       "    <tr>\n",
       "      <th>292</th>\n",
       "      <td>(SET/6 RED SPOTTY PAPER CUPS)</td>\n",
       "      <td>(SET/6 RED SPOTTY PAPER PLATES)</td>\n",
       "      <td>0.045952</td>\n",
       "      <td>0.875000</td>\n",
       "      <td>15.379808</td>\n",
       "    </tr>\n",
       "    <tr>\n",
       "      <th>70</th>\n",
       "      <td>(JAM JAR WITH GREEN LID)</td>\n",
       "      <td>(JAM JAR WITH PINK LID)</td>\n",
       "      <td>0.032823</td>\n",
       "      <td>0.937500</td>\n",
       "      <td>14.773707</td>\n",
       "    </tr>\n",
       "    <tr>\n",
       "      <th>71</th>\n",
       "      <td>(JAM JAR WITH PINK LID)</td>\n",
       "      <td>(JAM JAR WITH GREEN LID)</td>\n",
       "      <td>0.032823</td>\n",
       "      <td>0.517241</td>\n",
       "      <td>14.773707</td>\n",
       "    </tr>\n",
       "    <tr>\n",
       "      <th>54</th>\n",
       "      <td>(COFFEE MUG PEARS  DESIGN)</td>\n",
       "      <td>(COFFEE MUG APPLES DESIGN)</td>\n",
       "      <td>0.035011</td>\n",
       "      <td>0.888889</td>\n",
       "      <td>14.507937</td>\n",
       "    </tr>\n",
       "  </tbody>\n",
       "</table>\n",
       "</div>"
      ],
      "text/plain": [
       "                                 antecedents  \\\n",
       "296                (SPACEBOY CHILDRENS BOWL)   \n",
       "297                 (SPACEBOY CHILDRENS CUP)   \n",
       "615                 (SPACEBOY CHILDRENS CUP)   \n",
       "610       (POSTAGE, SPACEBOY CHILDRENS BOWL)   \n",
       "611        (POSTAGE, SPACEBOY CHILDRENS CUP)   \n",
       "614                (SPACEBOY CHILDRENS BOWL)   \n",
       "358             (CHILDRENS CUTLERY SPACEBOY)   \n",
       "355  (POSTAGE, CHILDRENS CUTLERY DOLLY GIRL)   \n",
       "41            (CHILDRENS CUTLERY DOLLY GIRL)   \n",
       "40              (CHILDRENS CUTLERY SPACEBOY)   \n",
       "359           (CHILDRENS CUTLERY DOLLY GIRL)   \n",
       "354    (POSTAGE, CHILDRENS CUTLERY SPACEBOY)   \n",
       "293          (SET/6 RED SPOTTY PAPER PLATES)   \n",
       "292            (SET/6 RED SPOTTY PAPER CUPS)   \n",
       "70                  (JAM JAR WITH GREEN LID)   \n",
       "71                   (JAM JAR WITH PINK LID)   \n",
       "54                (COFFEE MUG PEARS  DESIGN)   \n",
       "\n",
       "                                 consequents   support  confidence       lift  \n",
       "296                 (SPACEBOY CHILDRENS CUP)  0.037199    0.894737  20.444737  \n",
       "297                (SPACEBOY CHILDRENS BOWL)  0.037199    0.850000  20.444737  \n",
       "615       (POSTAGE, SPACEBOY CHILDRENS BOWL)  0.035011    0.800000  20.311111  \n",
       "610                 (SPACEBOY CHILDRENS CUP)  0.035011    0.888889  20.311111  \n",
       "611                (SPACEBOY CHILDRENS BOWL)  0.035011    0.842105  20.254848  \n",
       "614        (POSTAGE, SPACEBOY CHILDRENS CUP)  0.035011    0.842105  20.254848  \n",
       "358  (POSTAGE, CHILDRENS CUTLERY DOLLY GIRL)  0.037199    0.772727  16.816017  \n",
       "355             (CHILDRENS CUTLERY SPACEBOY)  0.037199    0.809524  16.816017  \n",
       "41              (CHILDRENS CUTLERY SPACEBOY)  0.039387    0.782609  16.256917  \n",
       "40            (CHILDRENS CUTLERY DOLLY GIRL)  0.039387    0.818182  16.256917  \n",
       "359    (POSTAGE, CHILDRENS CUTLERY SPACEBOY)  0.037199    0.739130  16.084886  \n",
       "354           (CHILDRENS CUTLERY DOLLY GIRL)  0.037199    0.809524  16.084886  \n",
       "293            (SET/6 RED SPOTTY PAPER CUPS)  0.045952    0.807692  15.379808  \n",
       "292          (SET/6 RED SPOTTY PAPER PLATES)  0.045952    0.875000  15.379808  \n",
       "70                   (JAM JAR WITH PINK LID)  0.032823    0.937500  14.773707  \n",
       "71                  (JAM JAR WITH GREEN LID)  0.032823    0.517241  14.773707  \n",
       "54                (COFFEE MUG APPLES DESIGN)  0.035011    0.888889  14.507937  "
      ]
     },
     "metadata": {},
     "output_type": "display_data"
    }
   ],
   "source": [
    "# Generate Rules\n",
    "rules = association_rules(frequent_itemsets, metric=\"lift\", min_threshold=1)\n",
    "\n",
    "# Show important metrics\n",
    "rules = rules[['antecedents', 'consequents', 'support', 'confidence', 'lift']]\n",
    "display(rules.sort_values(by='lift', ascending=False).head(17))\n"
   ]
  },
  {
   "cell_type": "code",
   "execution_count": null,
   "id": "14edb60c-2543-4043-b73a-77ad7dcd7881",
   "metadata": {},
   "outputs": [],
   "source": [
    "'''if you want exact matches only, go back to:\n",
    "lambda x: product in x\n",
    "\n",
    "If you want partial match (recommended), use:\n",
    "lambda x: any(product in i for i in x)'''"
   ]
  },
  {
   "cell_type": "code",
   "execution_count": 61,
   "id": "91172673-8489-43ad-ab2f-b8dc1e3fe1b4",
   "metadata": {},
   "outputs": [],
   "source": [
    "import pickle"
   ]
  },
  {
   "cell_type": "code",
   "execution_count": 62,
   "id": "856c8f9e-c219-411c-9e46-0f6bdf6b128b",
   "metadata": {},
   "outputs": [],
   "source": [
    "with open('model_MBA.pkl', 'wb') as file:\n",
    "    pickle.dump(rules, file)"
   ]
  },
  {
   "cell_type": "code",
   "execution_count": 64,
   "id": "d6a81c07-b798-47ce-8a88-8ab34c1865aa",
   "metadata": {},
   "outputs": [],
   "source": [
    "import pickle\n",
    "\n",
    "with open('model_MBA.pkl', 'rb') as file:\n",
    "    rules = pickle.load(file)\n"
   ]
  },
  {
   "cell_type": "code",
   "execution_count": null,
   "id": "6c2481cd-07dd-477b-a479-8a11e77fc3b9",
   "metadata": {},
   "outputs": [],
   "source": []
  }
 ],
 "metadata": {
  "kernelspec": {
   "display_name": "Python (pycaret-env)",
   "language": "python",
   "name": "pycaret-env"
  },
  "language_info": {
   "codemirror_mode": {
    "name": "ipython",
    "version": 3
   },
   "file_extension": ".py",
   "mimetype": "text/x-python",
   "name": "python",
   "nbconvert_exporter": "python",
   "pygments_lexer": "ipython3",
   "version": "3.10.18"
  }
 },
 "nbformat": 4,
 "nbformat_minor": 5
}
